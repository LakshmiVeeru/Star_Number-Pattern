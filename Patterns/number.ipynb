{
 "cells": [
  {
   "cell_type": "code",
   "execution_count": 4,
   "id": "79df3043",
   "metadata": {},
   "outputs": [
    {
     "name": "stdout",
     "output_type": "stream",
     "text": [
      "0 1 2 3 4 5 \n",
      "0 1 2 3 4 5 \n",
      "0 1 2 3 4 5 \n",
      "0 1 2 3 4 5 \n",
      "0 1 2 3 4 5 \n"
     ]
    }
   ],
   "source": [
    "n=5 #eval(input(\"Enter the no of rows\"))\n",
    "\n",
    "for i in range(n):\n",
    "    for j in range(5+1):\n",
    "        print(j,end=\" \")\n",
    "    print()"
   ]
  },
  {
   "cell_type": "code",
   "execution_count": 10,
   "id": "d520859d",
   "metadata": {},
   "outputs": [
    {
     "name": "stdout",
     "output_type": "stream",
     "text": [
      "A A A A A A A A A A \n",
      "B B B B B B B B B B \n",
      "C C C C C C C C C C \n",
      "D D D D D D D D D D \n",
      "E E E E E E E E E E \n",
      "F F F F F F F F F F \n",
      "G G G G G G G G G G \n",
      "H H H H H H H H H H \n",
      "I I I I I I I I I I \n",
      "J J J J J J J J J J \n"
     ]
    }
   ],
   "source": [
    "n=10 #eval(input(\"Enter the no of rows\"))\n",
    "\n",
    "# for i in range(1,n+1):\n",
    "#     # for j in range(1,n+1):\n",
    "#         print(chr(64+i)*n)\n",
    "#     # print()\n",
    "\n",
    "n=10 #eval(input(\"Enter the no of rows\"))\n",
    "\n",
    "for i in range(1,n+1):\n",
    "    for j in range(1,n+1):\n",
    "        print(chr(64+i),end=\" \")\n",
    "    print()"
   ]
  },
  {
   "cell_type": "code",
   "execution_count": 11,
   "id": "ca09552d",
   "metadata": {},
   "outputs": [
    {
     "name": "stdout",
     "output_type": "stream",
     "text": [
      "A B C D E F G H I J \n",
      "A B C D E F G H I J \n",
      "A B C D E F G H I J \n",
      "A B C D E F G H I J \n",
      "A B C D E F G H I J \n",
      "A B C D E F G H I J \n",
      "A B C D E F G H I J \n",
      "A B C D E F G H I J \n",
      "A B C D E F G H I J \n",
      "A B C D E F G H I J \n"
     ]
    }
   ],
   "source": [
    "n=10 #eval(input(\"Enter the no of rows\"))\n",
    "\n",
    "for i in range(1,n+1):\n",
    "    for j in range(1,n+1):\n",
    "        print(chr(64+j),end=\" \")\n",
    "    print()"
   ]
  },
  {
   "cell_type": "code",
   "execution_count": 14,
   "id": "ba347c31",
   "metadata": {},
   "outputs": [
    {
     "name": "stdout",
     "output_type": "stream",
     "text": [
      "10 10 10 10 10 10 10 10 10 10 \n",
      "9 9 9 9 9 9 9 9 9 9 \n",
      "8 8 8 8 8 8 8 8 8 8 \n",
      "7 7 7 7 7 7 7 7 7 7 \n",
      "6 6 6 6 6 6 6 6 6 6 \n",
      "5 5 5 5 5 5 5 5 5 5 \n",
      "4 4 4 4 4 4 4 4 4 4 \n",
      "3 3 3 3 3 3 3 3 3 3 \n",
      "2 2 2 2 2 2 2 2 2 2 \n"
     ]
    }
   ],
   "source": [
    "n=10 #eval(input(\"Enter the no of rows\"))\n",
    "\n",
    "for i in range(n,1,-1):\n",
    "    for j in range(1,n+1):\n",
    "        print(i,end=\" \")\n",
    "    print()"
   ]
  },
  {
   "cell_type": "code",
   "execution_count": 17,
   "id": "68075bbc",
   "metadata": {},
   "outputs": [
    {
     "name": "stdout",
     "output_type": "stream",
     "text": [
      "10 9 8 7 6 5 4 3 2 1 \n",
      "10 9 8 7 6 5 4 3 2 1 \n",
      "10 9 8 7 6 5 4 3 2 1 \n",
      "10 9 8 7 6 5 4 3 2 1 \n",
      "10 9 8 7 6 5 4 3 2 1 \n",
      "10 9 8 7 6 5 4 3 2 1 \n",
      "10 9 8 7 6 5 4 3 2 1 \n",
      "10 9 8 7 6 5 4 3 2 1 \n",
      "10 9 8 7 6 5 4 3 2 1 \n"
     ]
    }
   ],
   "source": [
    "n=10 #eval(input(\"Enter the no of rows\"))\n",
    "\n",
    "for i in range(n,1,-1):\n",
    "    for j in range(n,0,-1):\n",
    "        print(j,end=\" \")\n",
    "    print()"
   ]
  },
  {
   "cell_type": "code",
   "execution_count": 18,
   "id": "bc4f5c42",
   "metadata": {},
   "outputs": [
    {
     "name": "stdout",
     "output_type": "stream",
     "text": [
      "J I H G F E D C B A \n",
      "J I H G F E D C B A \n",
      "J I H G F E D C B A \n",
      "J I H G F E D C B A \n",
      "J I H G F E D C B A \n",
      "J I H G F E D C B A \n",
      "J I H G F E D C B A \n",
      "J I H G F E D C B A \n",
      "J I H G F E D C B A \n",
      "J I H G F E D C B A \n"
     ]
    }
   ],
   "source": [
    "n=10 #eval(input(\"Enter the no of rows\"))\n",
    "\n",
    "for i in range(n,0,-1):\n",
    "    for j in range(n,0,-1):\n",
    "        print(chr(64+j),end=\" \")\n",
    "    print()"
   ]
  },
  {
   "cell_type": "code",
   "execution_count": 21,
   "id": "8d9ab5d8",
   "metadata": {},
   "outputs": [
    {
     "name": "stdout",
     "output_type": "stream",
     "text": [
      "J J J J J J J J J J \n",
      "I I I I I I I I I I \n",
      "H H H H H H H H H H \n",
      "G G G G G G G G G G \n",
      "F F F F F F F F F F \n",
      "E E E E E E E E E E \n",
      "D D D D D D D D D D \n",
      "C C C C C C C C C C \n",
      "B B B B B B B B B B \n",
      "A A A A A A A A A A \n"
     ]
    }
   ],
   "source": [
    "n=10 #eval(input(\"Enter the no of rows\"))\n",
    "\n",
    "for i in range(n,0,-1):\n",
    "    for j in range(n,0,-1):\n",
    "        print(chr(64+i),end=\" \")\n",
    "    print()"
   ]
  },
  {
   "cell_type": "code",
   "execution_count": 23,
   "id": "49f0be21",
   "metadata": {},
   "outputs": [
    {
     "name": "stdout",
     "output_type": "stream",
     "text": [
      "\n",
      "1 \n",
      "1 2 \n",
      "1 2 3 \n",
      "1 2 3 4 \n",
      "1 2 3 4 5 \n"
     ]
    }
   ],
   "source": [
    "n=5 #eval(input(\"Enter the no of rows\"))\n",
    "for i in range(n+1):\n",
    "    for j in range(1,i+1):\n",
    "        print(j,end=\" \")\n",
    "    print()"
   ]
  },
  {
   "cell_type": "code",
   "execution_count": 25,
   "id": "45b37e2d",
   "metadata": {},
   "outputs": [
    {
     "name": "stdout",
     "output_type": "stream",
     "text": [
      "\n",
      "1 \n",
      "2 2 \n",
      "3 3 3 \n",
      "4 4 4 4 \n",
      "5 5 5 5 5 \n"
     ]
    }
   ],
   "source": [
    "n=5 #eval(input(\"Enter the no of rows\"))\n",
    "for i in range(n+1):\n",
    "    for j in range(1,i+1):\n",
    "        print(i,end=\" \")\n",
    "    print()"
   ]
  },
  {
   "cell_type": "code",
   "execution_count": 26,
   "id": "202ed847",
   "metadata": {},
   "outputs": [
    {
     "name": "stdout",
     "output_type": "stream",
     "text": [
      "\n",
      "A \n",
      "B B \n",
      "C C C \n",
      "D D D D \n",
      "E E E E E \n"
     ]
    }
   ],
   "source": [
    "n=5 #eval(input(\"Enter the no of rows\"))\n",
    "for i in range(n+1):\n",
    "    for j in range(1,i+1):\n",
    "        print(chr(64+i),end=\" \")\n",
    "    print()"
   ]
  },
  {
   "cell_type": "code",
   "execution_count": 27,
   "id": "9a0cf941",
   "metadata": {},
   "outputs": [
    {
     "name": "stdout",
     "output_type": "stream",
     "text": [
      "\n",
      "A \n",
      "A B \n",
      "A B C \n",
      "A B C D \n",
      "A B C D E \n"
     ]
    }
   ],
   "source": [
    "n=5 #eval(input(\"Enter the no of rows\"))\n",
    "for i in range(n+1):\n",
    "    for j in range(1,i+1):\n",
    "        print(chr(64+j),end=\" \")\n",
    "    print()"
   ]
  },
  {
   "cell_type": "code",
   "execution_count": 35,
   "id": "0f49ea43",
   "metadata": {},
   "outputs": [
    {
     "name": "stdout",
     "output_type": "stream",
     "text": [
      "1 2 3 4 5 \n",
      "1 2 3 4 \n",
      "1 2 3 \n",
      "1 2 \n",
      "1 \n"
     ]
    }
   ],
   "source": [
    "n=5\n",
    "for i in range(n,0,-1):\n",
    "    for j in range(1,i+1):\n",
    "        print(j,end=\" \")\n",
    "    print()\n"
   ]
  }
 ],
 "metadata": {
  "kernelspec": {
   "display_name": "Python 3",
   "language": "python",
   "name": "python3"
  },
  "language_info": {
   "codemirror_mode": {
    "name": "ipython",
    "version": 3
   },
   "file_extension": ".py",
   "mimetype": "text/x-python",
   "name": "python",
   "nbconvert_exporter": "python",
   "pygments_lexer": "ipython3",
   "version": "3.13.7"
  }
 },
 "nbformat": 4,
 "nbformat_minor": 5
}
